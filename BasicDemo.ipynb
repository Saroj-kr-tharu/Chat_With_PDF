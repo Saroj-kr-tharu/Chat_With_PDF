{
 "cells": [
  {
   "cell_type": "markdown",
   "id": "a6fe86b8",
   "metadata": {},
   "source": [
    "### RAG Document\n"
   ]
  },
  {
   "cell_type": "markdown",
   "id": "299476eb",
   "metadata": {},
   "source": [
    "### 01 Setup"
   ]
  },
  {
   "cell_type": "code",
   "execution_count": 1,
   "id": "17441d0c",
   "metadata": {},
   "outputs": [
    {
     "data": {
      "text/plain": [
       "True"
      ]
     },
     "execution_count": 1,
     "metadata": {},
     "output_type": "execute_result"
    }
   ],
   "source": [
    "from dotenv import load_dotenv\n",
    "load_dotenv()"
   ]
  },
  {
   "cell_type": "code",
   "execution_count": 2,
   "id": "e1c0b081",
   "metadata": {},
   "outputs": [],
   "source": [
    "import os \n",
    "baseUrl = os.getenv('BASE_URL')\n",
    "model = os.getenv('MODEL')\n",
    "Temperature = float(os.getenv('Temperature'))  \n",
    "Num_predict = int(os.getenv('Num_predict'))   "
   ]
  },
  {
   "cell_type": "code",
   "execution_count": null,
   "id": "d052fad8",
   "metadata": {},
   "outputs": [],
   "source": []
  },
  {
   "cell_type": "code",
   "execution_count": 3,
   "id": "52c21ffd",
   "metadata": {},
   "outputs": [],
   "source": [
    "\n",
    "from langchain_ollama import ChatOllama\n",
    "from langchain_core.messages import HumanMessage, SystemMessage\n",
    "from langchain_core.output_parsers import StrOutputParser\n",
    "from langchain_core.prompts import SystemMessagePromptTemplate,HumanMessagePromptTemplate,ChatPromptTemplate\n",
    "\n",
    "llm = ChatOllama(base_url=baseUrl, model=model, temperature=Temperature, num_predict=Num_predict    )\n"
   ]
  },
  {
   "cell_type": "markdown",
   "id": "c15d30a3",
   "metadata": {},
   "source": [
    "### 02 Setup llm for to call \n"
   ]
  },
  {
   "cell_type": "code",
   "execution_count": 4,
   "id": "6f857c0b",
   "metadata": {},
   "outputs": [],
   "source": [
    "\n",
    "def ask_llm(query,context):\n",
    "    system = SystemMessagePromptTemplate.from_template(\"\"\"\n",
    "You are helpful AI assistant who answer user question based on the provided context.\n",
    "                                                   Do not answer in more than {words} words \n",
    "\"\"\")\n",
    "    \n",
    "    prompt= \"\"\" \n",
    "    Answer user question based on the provided context ONLY! If do not know the anser , just say \"i don't know\".\n",
    "    ### Context: \n",
    "    {context}\n",
    "\n",
    "    ### Question: \n",
    "    {question}\n",
    "\n",
    "    ### Answer :\n",
    "\n",
    "\n",
    " \"\"\"\n",
    "    \n",
    "    messages = [system, HumanMessagePromptTemplate.from_template(prompt)]\n",
    "    template = ChatPromptTemplate(messages=messages)\n",
    "    chain= template |  llm | StrOutputParser()\n",
    "\n",
    "    response = chain.invoke({'context': context, 'question': query, 'words': 50})\n",
    "    return response\n",
    "    \n"
   ]
  },
  {
   "cell_type": "code",
   "execution_count": 5,
   "id": "f9b844a7",
   "metadata": {},
   "outputs": [],
   "source": [
    "\n",
    "\n",
    "### PDF Parser \n"
   ]
  },
  {
   "cell_type": "markdown",
   "id": "12181e93",
   "metadata": {},
   "source": [
    "### 03 PDF Parser \n"
   ]
  },
  {
   "cell_type": "code",
   "execution_count": 6,
   "id": "78efb3eb",
   "metadata": {},
   "outputs": [],
   "source": [
    "from langchain_community.document_loaders import PyMuPDFLoader\n",
    "\n",
    "pdfs = []\n",
    "\n",
    "for root, dirs, files in os.walk(\"rag-dataset\"):\n",
    "    for file in files:\n",
    "         if file.endswith(\".pdf\"):\n",
    "              pdfs.append(os.path.join(root,file))\n",
    "\n",
    "docs = []\n",
    "for pdf in pdfs:\n",
    "     loader= PyMuPDFLoader(pdf)\n",
    "     temp = loader.load()\n",
    "     docs.extend(temp)\n",
    "\n"
   ]
  },
  {
   "cell_type": "code",
   "execution_count": 7,
   "id": "b38bc665",
   "metadata": {},
   "outputs": [],
   "source": [
    "def format_docs(textDocs):\n",
    "    return \"\\n\\n\".join([x.page_content for x in textDocs])\n",
    "\n",
    "context = format_docs(docs)\n",
    "\n",
    "\n",
    "\n",
    "    "
   ]
  },
  {
   "cell_type": "code",
   "execution_count": 8,
   "id": "45dda669",
   "metadata": {},
   "outputs": [],
   "source": [
    "# reponse =  ask_llm(context, 'You are the pdf Summarize . ## Summarize the pdf in 10 points')\n",
    "# print(reponse)"
   ]
  },
  {
   "cell_type": "code",
   "execution_count": 9,
   "id": "54836da5",
   "metadata": {},
   "outputs": [
    {
     "name": "stdout",
     "output_type": "stream",
     "text": [
      "228229\n"
     ]
    }
   ],
   "source": [
    "import tiktoken\n",
    "enc = tiktoken.encoding_for_model(\"gpt-4o\")\n",
    "print(len(enc.encode(context)))"
   ]
  },
  {
   "cell_type": "code",
   "execution_count": 11,
   "id": "fcb5a8e3",
   "metadata": {},
   "outputs": [],
   "source": [
    "output = ask_llm(query=\"how to gain Muscle? give me in mark down format\", context=context)\n"
   ]
  },
  {
   "cell_type": "code",
   "execution_count": null,
   "id": "d0dd26ed",
   "metadata": {},
   "outputs": [],
   "source": []
  },
  {
   "cell_type": "markdown",
   "id": "b3b4325e",
   "metadata": {},
   "source": [
    "## Vector Store and Retrival "
   ]
  },
  {
   "cell_type": "code",
   "execution_count": 18,
   "id": "a5d50b81",
   "metadata": {},
   "outputs": [],
   "source": [
    "from langchain_ollama import OllamaEmbeddings\n",
    "embeddings = OllamaEmbeddings(model='nomic-embed-text', base_url=baseUrl)\n"
   ]
  },
  {
   "cell_type": "code",
   "execution_count": 19,
   "id": "f77adb3d",
   "metadata": {},
   "outputs": [],
   "source": [
    "import faiss \n",
    "from langchain_community.docstore.in_memory import InMemoryDocstore\n",
    "from langchain_community.vectorstores import FAISS\n",
    "\n"
   ]
  },
  {
   "cell_type": "code",
   "execution_count": null,
   "id": "60442c2f",
   "metadata": {},
   "outputs": [],
   "source": []
  },
  {
   "cell_type": "code",
   "execution_count": 20,
   "id": "4f6edf86",
   "metadata": {},
   "outputs": [],
   "source": [
    "index = faiss.IndexFlatL2(len(embeddings.embed_query(\"hello world\")))\n",
    "vector_store = FAISS(\n",
    "    embedding_function=embeddings,\n",
    "    index=index,\n",
    "    docstore=InMemoryDocstore(),\n",
    "    index_to_docstore_id={}\n",
    ")"
   ]
  },
  {
   "cell_type": "code",
   "execution_count": 21,
   "id": "1a5c0754",
   "metadata": {},
   "outputs": [],
   "source": [
    "from langchain_text_splitters import RecursiveCharacterTextSplitter\n",
    "\n",
    "text_spliter = RecursiveCharacterTextSplitter(chunk_size= 1000, chunk_overlap=100)\n",
    "chunks = text_spliter.split_documents(docs)\n",
    "\n"
   ]
  },
  {
   "cell_type": "code",
   "execution_count": 23,
   "id": "9382014c",
   "metadata": {},
   "outputs": [
    {
     "data": {
      "text/plain": [
       "[Document(id='8f918217-1642-4f09-b0c3-893f12ad87de', metadata={'producer': 'iLovePDF', 'creator': '', 'creationdate': '', 'source': 'rag-dataset\\\\health supplements\\\\3.health_supplements_side_effects.pdf', 'file_path': 'rag-dataset\\\\health supplements\\\\3.health_supplements_side_effects.pdf', 'total_pages': 11, 'format': 'PDF 1.5', 'title': '', 'author': '', 'subject': '', 'keywords': '', 'moddate': '2024-10-21T14:37:42+00:00', 'trapped': '', 'modDate': 'D:20241021143742Z', 'creationDate': '', 'page': 7}, page_content='component of Geranium plants, e.g. as geranium extract (71). However, the presence of \\nDMAA in plants has not been verified, leading to the conclusion that DMAA in supplements \\nis generated by chemical synthesis (72). DMAA has further been banned as a performance \\nenhancing drug by the World Anti-Doping Agency (73). One version of the weight-loss \\nsupplement OxyELITE Pro from USPlabs, LLC contained the compound 1,3-\\ndimethylamylamine (DMAA) in addition to ingredients such as caffeine, Bauhinia purpurea, \\nBacopa monniera, Cirsium oligophyllum, and rauwolscine (Yohimbe) extract. Studies that \\nwere supported financially by USPlabs, LLC with a small number of healthy volunteers \\nsuggested that this supplement formulation could increase lipolysis, metabolic rate, heart \\nrate and systolic blood pressure in the short term (2 h) as well as lead to small decreases in \\nappetite, body weight, and BMI after intake for 8 weeks (74). Accidental intake of'),\n",
       " Document(id='d7b728cb-82c0-4659-acb5-d9aad2cf0f09', metadata={'producer': 'iLovePDF', 'creator': '', 'creationdate': '', 'source': 'rag-dataset\\\\gym supplements\\\\2. High Prevalence of Supplement Intake.pdf', 'file_path': 'rag-dataset\\\\gym supplements\\\\2. High Prevalence of Supplement Intake.pdf', 'total_pages': 11, 'format': 'PDF 1.5', 'title': '', 'author': '', 'subject': '', 'keywords': '', 'moddate': '2024-10-21T11:39:04+00:00', 'trapped': '', 'modDate': 'D:20241021113904Z', 'creationDate': '', 'page': 5}, page_content='for two training goals. Improving health was named by 59%, 60%, 75%, and 89% as a training goal\\namong the four age groups beginning from the youngest to the oldest group. On the other hand, body\\nshaping was named by 69%, 55%, 41%, and 17% among the four age groups.'),\n",
       " Document(id='6125f74c-22cf-41ec-87bb-f3ce084eba41', metadata={'producer': 'iLovePDF', 'creator': '', 'creationdate': '', 'source': 'rag-dataset\\\\gym supplements\\\\1. Analysis of Actual Fitness Supplement.pdf', 'file_path': 'rag-dataset\\\\gym supplements\\\\1. Analysis of Actual Fitness Supplement.pdf', 'total_pages': 15, 'format': 'PDF 1.7', 'title': '', 'author': '', 'subject': '', 'keywords': '', 'moddate': '2024-10-21T11:38:50+00:00', 'trapped': '', 'modDate': 'D:20241021113850Z', 'creationDate': '', 'page': 0}, page_content='sionals, and policymakers seeking to promote informed and responsible supplement use among\\nhealth and fitness enthusiasts.\\nKeywords: fitness supplements; health belief model; theory of effort of minimization; theory of\\nplanned behavior; structural equation modelling\\n1. Introduction\\nSupplementary drinks or fitness supplements are commonly used to enhance an\\nindividual’s performance in various sports and health settings, catering to both competitive\\nand non-competitive athletes [1]. One widely known supplement for athletes and fitness\\nenthusiasts is protein supplements like protein shakes. Others may be whey protein,\\ncaffeine, and creatine, to name a few. These supplements play a crucial role in helping\\nindividuals increase muscle mass, recover faster, and enhance their overall performance [2].\\nWhey protein stands out as a top-quality protein source, containing more essential amino\\nacids than traditional protein sources. Its numerous benefits have made it a popular choice'),\n",
       " Document(id='bcd648d3-ca16-41f6-a555-f71cb2e343b0', metadata={'producer': 'iLovePDF', 'creator': '', 'creationdate': '', 'source': 'rag-dataset\\\\gym supplements\\\\2. High Prevalence of Supplement Intake.pdf', 'file_path': 'rag-dataset\\\\gym supplements\\\\2. High Prevalence of Supplement Intake.pdf', 'total_pages': 11, 'format': 'PDF 1.5', 'title': '', 'author': '', 'subject': '', 'keywords': '', 'moddate': '2024-10-21T11:39:04+00:00', 'trapped': '', 'modDate': 'D:20241021113904Z', 'creationDate': '', 'page': 8}, page_content='and strength gain among men. We detected more prevalent protein and creatine supplementation\\namong younger compared to older ﬁtness center users, whereas the opposite was found for vitamin\\nsupplementation. Other authors made similar observations [23] and it might reﬂect the diﬀerent\\ntraining goals among age groups, i.e., more focus on strength and muscles among the younger and\\nmore focus on health among the older age groups.\\nComparable to other studies [4], we detected a positive correlation between training frequency\\nand supplement usage. Nevertheless, the correlation is weak and is deﬁnitely not a predictor at the\\nindividual level. The subject with the highest supplement intake of 100 weekly servings was training\\nonly once a week.'),\n",
       " Document(id='1b64aa94-778c-48e4-b757-b31e81068cb3', metadata={'producer': 'iLovePDF', 'creator': '', 'creationdate': '', 'source': 'rag-dataset\\\\health supplements\\\\1. dietary supplements - for whom.pdf', 'file_path': 'rag-dataset\\\\health supplements\\\\1. dietary supplements - for whom.pdf', 'total_pages': 17, 'format': 'PDF 1.7', 'title': '', 'author': '', 'subject': '', 'keywords': '', 'moddate': '2024-10-21T11:37:54+00:00', 'trapped': '', 'modDate': 'D:20241021113754Z', 'creationDate': '', 'page': 14}, page_content='yohimbine, and even amphetamine and its derivatives being found in supplements con-\\ntinues to grow [105,106,127,137]. A US study revealed that 11 out of 21 supplements that\\ncontained the Acacia rigidula extract that were purchased on the Internet contained the iso-\\nmer of amphetamine [138]. In South Korea, substances that bore a structural resemblance\\nto amphetamine were found in 10 out of 110 weight loss supplements [139]. In Italy, 28%\\nof the supplements purchased online contained sibutramine or substances only permitted\\nin medicines or their analogs, which had not been tested for toxicology [135]. Apart from\\nweight loss supplements, preparations for muscle building and sexual potency have also\\nbeen found to be contaminated. International studies indicate that 12–58% of the supple-\\nments for physically active people contained substances that have previously been banned\\nby the World Anti-Doping Agency [140].')]"
      ]
     },
     "execution_count": 23,
     "metadata": {},
     "output_type": "execute_result"
    }
   ],
   "source": [
    "vector_store.search(query='HOw to gain msucle mass ?', k=5, search_type=\"similarity\")"
   ]
  },
  {
   "cell_type": "code",
   "execution_count": 22,
   "id": "8dd4ee51",
   "metadata": {},
   "outputs": [],
   "source": [
    "ids = vector_store.add_documents(documents=chunks)\n",
    "db_name = \"health_supplements\"\n",
    "vector_store.save_local(db_name)"
   ]
  },
  {
   "cell_type": "code",
   "execution_count": 1,
   "id": "50acb4cb",
   "metadata": {},
   "outputs": [],
   "source": [
    "from dotenv import load_dotenv\n",
    "from langchain_core.output_parsers import StrOutputParser\n",
    "from langchain_text_splitters import RecursiveCharacterTextSplitter\n",
    "from langchain_core.runnables import RunnablePassthrough\n",
    "from langchain_core.prompts import ChatPromptTemplate\n",
    "from langchain.schema import Document\n",
    "import faiss\n",
    "from langchain_community.vectorstores import FAISS\n",
    "from langchain_community.docstore.in_memory import InMemoryDocstore\n",
    "import streamlit as st\n",
    "from langchain_google_genai import ChatGoogleGenerativeAI, GoogleGenerativeAIEmbeddings\n",
    "import pymupdf\n",
    "import time\n",
    "import os"
   ]
  },
  {
   "cell_type": "code",
   "execution_count": 7,
   "id": "6f2b2c61",
   "metadata": {},
   "outputs": [],
   "source": [
    "def ask_llmFormater(text):\n",
    "        \"\"\"Return the text in format way  \"\"\"\n",
    "        try:\n",
    "            baseUrl = os.getenv('BASE_URL')\n",
    "            model = os.getenv('MODEL')\n",
    "            temperature = float(os.getenv('Temperature', 0.7))\n",
    "            num_predict = int(os.getenv('Num_predict', 100))\n",
    "            google_api_key = os.getenv('GOOGLE_API_KEY')\n",
    "            db_name = 'health_supplements_VECTOR_DB'\n",
    "\n",
    "            llm = ChatGoogleGenerativeAI(\n",
    "                model=\"gemini-2.0-flash\",\n",
    "                google_api_key=google_api_key,\n",
    "                temperature=0.0\n",
    "            )\n",
    "            \n",
    "            prompt = ChatPromptTemplate.from_template(\n",
    "                    \"\"\"\n",
    "                    You are a text formatter that enhances readability while preserving 100% of the original content.\n",
    "\n",
    "                    FORMAT RULES:\n",
    "                    1. Convert main topics/section headings to **bold**\n",
    "                    2. Convert key terms, concepts, and subtopics to *italics*\n",
    "                    3. Use bullet points for lists and details\n",
    "                    4. Maintain all original information - do not summarize or remove anything\n",
    "                    5. Do not add any explanatory text, notes, or commentary\n",
    "                    6. Organize content with proper spacing and hierarchy\n",
    "                    7. Do not include phrases like \"cannot be summarized\" or explanations of format\n",
    "\n",
    "                    INPUT TEXT:\n",
    "                    '{context}'\n",
    "\n",
    "                    OUTPUT (formatted version of the exact same content):\n",
    "                    \"\"\"\n",
    "                )\n",
    "            \n",
    "            # Create the chain\n",
    "            chain = (\n",
    "               prompt\n",
    "                | llm \n",
    "                | StrOutputParser()\n",
    "            )\n",
    "            \n",
    "            response = chain.invoke(text)\n",
    "            return response\n",
    "            \n",
    "        except Exception as e:\n",
    "            print(f\"Error in ask_llmFormater: {e}\")\n",
    "            return f\"Sorry, there was an error ask_llmFormater: {e}\""
   ]
  },
  {
   "cell_type": "code",
   "execution_count": null,
   "id": "942f8b20",
   "metadata": {},
   "outputs": [],
   "source": [
    "text= \"\"\" \n",
    "*   **Multimedia Systems:** The document starts by defining multimedia and its global structure, elements, uses, and the types of media involved. It also covers data streams, representation values, representation space, and the properties of multimedia in terms of media combination and independence.\n",
    "*   **Sound and MIDI:** It discusses the need for the MIDI standard, types of MIDI messages, the relationship between MIDI and SMPTE timing, and MIDI software. It also explains sound digitization, storage, and playback in multimedia systems, as well as sound wave frequency, speech recognition, MIDI reception modes, sound generation steps, and MIDI data formats.\n",
    "*   **Digital Images:** The document covers digital image representation, image recognition steps, image formats, and the fundamentals of image processing. It also discusses bitmap images, their advantages and disadvantages compared to vector images, and image enhancement techniques like contrast enhancement, linear and non-linear transformations, and histogram equalization.\n",
    "*   **Image Enhancement and Transmission:** Finally, it explains spatial filtering techniques for image enhancement, different image transmission possibilities, and negative transformation used in image enhancement.\n",
    "\"\"\"\n",
    "response = ask_llmFormater(text)"
   ]
  },
  {
   "cell_type": "code",
   "execution_count": 9,
   "id": "298f98ca",
   "metadata": {},
   "outputs": [
    {
     "data": {
      "text/plain": [
       "'**Multimedia Systems**\\n\\n*   *What they are, their structure, elements, uses, and properties.*\\n*   How multimedia combines different types of media.\\n\\n**Sound**\\n\\n*   How sound is digitized, stored, and played in multimedia systems.\\n*   *Sound wave frequency*\\n*   *Speech recognition*\\n*   *MIDI (Musical Instrument Digital Interface)*\\n*   *Sound generation*\\n*   *MIDI data formats*\\n\\n**Digital Images**\\n\\n*   How images are represented digitally.\\n*   *Image recognition steps*\\n*   *Image formats*\\n*   Fundamentals of image processing.\\n\\n**Image Enhancement**\\n\\n*   Techniques like *contrast enhancement, linear and non-linear transformations, and spatial filtering.*\\n*   *Histogram equalization*\\n*   *Negative transformation*\\n\\n**MIDI**\\n\\n*   The need for the *MIDI standard.*\\n*   Types of *MIDI messages.*\\n*   Its relationship with *SMPTE timing.*\\n*   *MIDI software.*'"
      ]
     },
     "execution_count": 9,
     "metadata": {},
     "output_type": "execute_result"
    }
   ],
   "source": [
    "response"
   ]
  }
 ],
 "metadata": {
  "kernelspec": {
   "display_name": "ollama-env",
   "language": "python",
   "name": "python3"
  },
  "language_info": {
   "codemirror_mode": {
    "name": "ipython",
    "version": 3
   },
   "file_extension": ".py",
   "mimetype": "text/x-python",
   "name": "python",
   "nbconvert_exporter": "python",
   "pygments_lexer": "ipython3",
   "version": "3.13.3"
  }
 },
 "nbformat": 4,
 "nbformat_minor": 5
}
